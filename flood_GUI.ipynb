{
 "cells": [
  {
   "cell_type": "code",
   "execution_count": 1,
   "id": "b3214500",
   "metadata": {},
   "outputs": [
    {
     "name": "stderr",
     "output_type": "stream",
     "text": [
      "C:\\Users\\owner\\anaconda3\\lib\\site-packages\\ipykernel_launcher.py:15: DeprecationWarning: `set_matplotlib_formats` is deprecated since IPython 7.23, directly use `matplotlib_inline.backend_inline.set_matplotlib_formats()`\n",
      "  from ipykernel import kernelapp as app\n"
     ]
    }
   ],
   "source": [
    "import ee\n",
    "import numpy as np\n",
    "from osgeo import gdal\n",
    "from osgeo import osr\n",
    "import time\n",
    "import matplotlib.pyplot as plt\n",
    "from matplotlib.ticker import FuncFormatter\n",
    "import pandas as pd\n",
    "import seaborn as sns\n",
    "from scipy import stats\n",
    "import folium\n",
    "from mpl_toolkits.mplot3d import Axes3D\n",
    "from ipywidgets import interact, interactive, fixed, interact_manual\n",
    "from IPython.display import set_matplotlib_formats\n",
    "set_matplotlib_formats('svg')\n",
    "from matplotlib import rcParams\n",
    "import matplotlib.cm as cm # matplotlib's color map library\n",
    "import warnings\n",
    "from matplotlib.ticker import FuncFormatter\n",
    "\n",
    "warnings.filterwarnings(\"ignore\")\n",
    "\n",
    "# init the ee object\n",
    "ee.Initialize()"
   ]
  },
  {
   "cell_type": "code",
   "execution_count": 122,
   "id": "75cee4ca",
   "metadata": {},
   "outputs": [
    {
     "data": {
      "application/vnd.jupyter.widget-view+json": {
       "model_id": "c89a6e7bbbe44b52902d7a02b4efc7de",
       "version_major": 2,
       "version_minor": 0
      },
      "text/plain": [
       "interactive(children=(IntSlider(value=820, description='water_level', max=940, min=700, step=5), Output()), _d…"
      ]
     },
     "metadata": {},
     "output_type": "display_data"
    }
   ],
   "source": [
    "# https://www.techforwildlife.com/blog/2019/1/22/analysing-drone-and-satellite-imagery-using-vegetation-indices\n",
    "def p2r(point, area_size = 500):\n",
    "    dist_lat = abs(area_size / 110.540)/1000\n",
    "    dist_lon = abs(area_size / (111.320 * np.cos(point[0])))/1000\n",
    "    area = {\"type\": \"FeatureCollection\", \"features\": [{\"type\": \"Feature\", \"properties\": {},\"geometry\": {\"type\": \"Polygon\", \"coordinates\": [[[point[0] - dist_lon/2, point[1] - dist_lat/2], [point[0] + dist_lon/2, point[1] - dist_lat/2], [point[0] + dist_lon/2, point[1] + dist_lat/2], [point[0] - dist_lon/2, point[1] + dist_lat/2], [point[0] - dist_lon/2, point[1] - dist_lat/2]]]}}]}\n",
    "    coords_area = area['features'][0]['geometry']['coordinates']\n",
    "    aoi_area = ee.Geometry.Polygon(coords_area)\n",
    "    return area, aoi_area\n",
    "    \n",
    "def contour_plt(df, no_con):\n",
    "    Z = df.pivot_table(index='X', columns='Y', values='Z').T.values\n",
    "\n",
    "    X_unique = np.sort(df.X.unique())\n",
    "    Y_unique = np.sort(df.Y.unique())\n",
    "    X, Y = np.meshgrid(X_unique, Y_unique)\n",
    "\n",
    "    # Initialize plot objects\n",
    "    rcParams['figure.figsize'] = 5, 5 # sets plot size\n",
    "    fig = plt.figure()\n",
    "    ax = fig.add_subplot(111)\n",
    "    levels = np.linspace(np.min(df['Z']), np.max(df['Z']), no_con)\n",
    "\n",
    "    cpf = ax.contourf(X, Y, Z, len(levels), cmap = cm.Reds)\n",
    "    line_colors = ['black' for l in cpf.levels]\n",
    "    cp = ax.contour(X, Y, Z, levels=levels, colors=line_colors)\n",
    "    ax.clabel(cp, fontsize=10, colors=line_colors)\n",
    "    plt.xticks()\n",
    "    plt.yticks()\n",
    "    ax.set_xlabel('X-axis')\n",
    "    _ = ax.set_ylabel('Y-axis')\n",
    "    plt.grid()\n",
    "\n",
    "global area_x, area_y\n",
    "\n",
    "# def check_flood(Water_Level, azimuth, elevation):\n",
    "# #     area = p2r([23.0043, 40.5241], area_size = 500)[1]\n",
    "#     area = ee.Geometry.Rectangle([area_x, area_y, area_x + 0.01, area_y + 0.01])\n",
    "#     img1 = ee.Image('USGS/SRTMGL1_003').select(['elevation'])\n",
    "#     new=img1.toArray().toArray(1)\n",
    "\n",
    "#     band_arrs = img1.sampleRectangle(region=area)\n",
    "#     band_arr_b2 = band_arrs.get('elevation')\n",
    "#     np_arr_b2 = np.array(band_arr_b2.getInfo())\n",
    "    \n",
    "#     latlon = ee.Image.pixelLonLat().addBands(img1)\n",
    "#     latlon = latlon.reduceRegion(\n",
    "#       reducer=ee.Reducer.toList(),\n",
    "#       geometry=area,\n",
    "#       scale=100);\n",
    "#     lats = np.array((ee.Array(latlon.get(\"latitude\")).getInfo()))\n",
    "#     lons = np.array((ee.Array(latlon.get(\"longitude\")).getInfo()))\n",
    "\n",
    "#     df = pd.DataFrame(np_arr_b2).unstack().reset_index()\n",
    "#     df.columns = [\"X\",\"Y\",\"Z\"]\n",
    "\n",
    "#     df['X'] = pd.Categorical(df['X'])\n",
    "#     df['X'] = df['X'].cat.codes\n",
    "\n",
    "#     df2 = df[df['Z'] < Water_Level]\n",
    "#     df2['Z'] = Water_Level\n",
    "#     fig = plt.figure()\n",
    "#     ax = fig.gca(projection='3d')\n",
    "#     ax.plot_trisurf(df['Y'], df['X'], df['Z'], cmap=plt.cm.summer, linewidth=0.2, zorder = 0)\n",
    "#     surf=ax.plot_trisurf(df['Y'], df['X'], df['Z'], cmap=plt.cm.summer, linewidth=0.2, zorder = 0)\n",
    "#     surf2=ax.plot_trisurf(df2['Y'], df2['X'], df2['Z'], cmap=plt.cm.Blues, linewidth=0.2, zorder = 100)\n",
    "#     fig.colorbar(surf, shrink=0.5, aspect=5)\n",
    "#     ax.view_init(azim = azimuth, elev = elevation)\n",
    "\n",
    "def format_xtick_labels(x, pos): return '{0:.3f}$^\\circ$N'.format(x)\n",
    "def format_ytick_labels(x, pos): return '{0:.3f}$^\\circ$E'.format(x)\n",
    "\n",
    "def contour_plt(water_level):\n",
    "    no_con = 6\n",
    "    img1 = ee.Image('USGS/SRTMGL1_003').select(['elevation'])\n",
    "    new=img1.toArray().toArray(1)\n",
    "\n",
    "    band_arrs = img1.sampleRectangle(region=area)\n",
    "    band_arr_b2 = band_arrs.get('elevation')\n",
    "    np_arr_b2 = np.array(band_arr_b2.getInfo())\n",
    "    \n",
    "    latlon = ee.Image.pixelLonLat().addBands(img1)\n",
    "    latlon = latlon.reduceRegion(\n",
    "      reducer=ee.Reducer.toList(),\n",
    "      geometry=area,\n",
    "      scale=100);\n",
    "    lats = np.array((ee.Array(latlon.get(\"latitude\")).getInfo()))\n",
    "    lons = np.array((ee.Array(latlon.get(\"longitude\")).getInfo()))\n",
    "    # long is x and lat is y\n",
    "    df = pd.DataFrame(np_arr_b2).unstack().reset_index()\n",
    "    df.columns = [\"X\",\"Y\",\"Z\"]\n",
    "\n",
    "    df['X'] = pd.Categorical(df['X'])\n",
    "    df['X'] = df['X'].cat.codes\n",
    "    xmax2, xmin2, ymax2, ymin2 = lons.max(), lons.min(), lats.max(), lats.min()\n",
    "    df['X'] = np.interp(df['X'], (df['X'].min(), df['X'].max()), (xmin2, xmax2))\n",
    "    df['Y'] = np.interp(df['Y'], (df['Y'].min(), df['Y'].max()), (ymin2, ymax2))\n",
    "    Z = df.pivot_table(index='X', columns='Y', values='Z').T.values\n",
    "    X_unique = np.sort(df.X.unique())\n",
    "    Y_unique = np.sort(df.Y.unique())\n",
    "    X, Y = np.meshgrid(X_unique, Y_unique)\n",
    "    rcParams['figure.figsize'] = 5, 5 # sets plot size\n",
    "    fig = plt.figure()\n",
    "    ax = fig.add_subplot(111)\n",
    "    Z2 = np.where(Z < water_level, -9999, np.nan)\n",
    "    levels = np.linspace(np.min(df['Z']), np.max(df['Z']), no_con)\n",
    "    cpf = ax.contourf(X, Y, Z, len(levels), cmap = cm.Reds)\n",
    "    ax.contourf(X, Y, Z2, cmap = cm.Blues)\n",
    "    line_colors = ['black' for l in cpf.levels]\n",
    "    cp = ax.contour(X, Y, Z, levels=levels, colors=line_colors)\n",
    "    ax.clabel(cp, fontsize=10, colors=line_colors)\n",
    "    plt.xticks()\n",
    "    plt.yticks()\n",
    "    ax.set_xlabel('')\n",
    "    _ = ax.set_ylabel('')\n",
    "    plt.grid()\n",
    "    plt.gca().xaxis.set_major_formatter(FuncFormatter(format_ytick_labels))\n",
    "    plt.gca().yaxis.set_major_formatter(FuncFormatter(format_xtick_labels))\n",
    "    plt.xticks(rotation=90)"
   ]
  },
  {
   "cell_type": "code",
   "execution_count": 125,
   "id": "bd49c802",
   "metadata": {},
   "outputs": [],
   "source": [
    "# # area_x = float(input())\n",
    "# # area_y = float(input())\n",
    "\n",
    "# area_x = 39.852051\n",
    "# area_y = 20.974850\n",
    "\n",
    "# interact_manual(check_flood, Water_Level = (200, 300, 5), azimuth = (0, 90, 10), elevation = (0, 90, 10));"
   ]
  },
  {
   "cell_type": "code",
   "execution_count": 128,
   "id": "88f68258",
   "metadata": {},
   "outputs": [
    {
     "data": {
      "application/vnd.jupyter.widget-view+json": {
       "model_id": "ae0de3a4aca841ee931247d518452fa6",
       "version_major": 2,
       "version_minor": 0
      },
      "text/plain": [
       "interactive(children=(IntSlider(value=820, description='water_level', max=940, min=700, step=5), Output()), _d…"
      ]
     },
     "metadata": {},
     "output_type": "display_data"
    }
   ],
   "source": [
    "global area\n",
    "area = p2r([20.974850, 39.852051], area_size = 1000)[1]\n",
    "# area = p2r([23.0043, 40.5241], area_size = 500)[1]\n",
    "\n",
    "interact(contour_plt, water_level = (700, 940, 5));"
   ]
  },
  {
   "cell_type": "code",
   "execution_count": null,
   "id": "5b924bda",
   "metadata": {},
   "outputs": [],
   "source": []
  }
 ],
 "metadata": {
  "kernelspec": {
   "display_name": "Python 3",
   "language": "python",
   "name": "python3"
  },
  "language_info": {
   "codemirror_mode": {
    "name": "ipython",
    "version": 3
   },
   "file_extension": ".py",
   "mimetype": "text/x-python",
   "name": "python",
   "nbconvert_exporter": "python",
   "pygments_lexer": "ipython3",
   "version": "3.7.10"
  }
 },
 "nbformat": 4,
 "nbformat_minor": 5
}
