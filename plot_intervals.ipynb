{
 "cells": [
  {
   "cell_type": "code",
   "execution_count": null,
   "metadata": {},
   "outputs": [],
   "source": [
    "def plot_int(x, par, quantile1, quantile2):\n",
    "    if not x.var() < 10**-8:\n",
    "        fig, ax = plt.subplots(ncols=1, figsize=(8, 4))\n",
    "        sns.kdeplot(x, color = 'b', zorder = 11)\n",
    "        sns.histplot(x, color = 'cornflowerblue', ax=ax, stat = 'density', kde = True, zorder = 8)\n",
    "        max_hist = np.array([h.get_height() for h in sns.kdeplot(x).patches]).max()\n",
    "        kdeline = ax.lines[0]\n",
    "        xs = kdeline.get_xdata()\n",
    "        ys = kdeline.get_ydata()\n",
    "        left, middle, right = np.percentile(x, [quantile1, 50, quantile2])\n",
    "        ax.set_title('The median value of the parameter {} is {}'.format(par, np.round(np.median(x), 4)))\n",
    "        ax.vlines(np.median(x), 0, np.interp(np.median(x), xs, ys), color = 'black', linestyle = '--', zorder = 9)\n",
    "        sns.histplot(x, stat='density', color = 'cornflowerblue')\n",
    "        ax.fill_between(xs, 0, ys, where=(xs >= right), interpolate=True, facecolor='silver', zorder = 10)\n",
    "        ax.fill_between(xs, 0, ys, where=(xs <= left), interpolate=True, facecolor='silver', zorder = 10)\n",
    "        ax.fill_between(xs, ys, max_hist, where=(xs < left), interpolate=True, facecolor='white', zorder = 10)\n",
    "        ax.fill_between(xs, ys, max_hist, where=(xs > right), interpolate=True, facecolor='white', zorder = 10)\n",
    "        ax.set_ylim(ymin=0)\n",
    "        plt.grid(False)\n",
    "        plt.legend([])\n",
    "        plt.show()\n",
    "    else:\n",
    "        print('Variance is close to zero; plot of {} is not produced'.format(par))"
   ]
  }
 ],
 "metadata": {
  "kernelspec": {
   "display_name": "Python 3",
   "language": "python",
   "name": "python3"
  },
  "language_info": {
   "codemirror_mode": {
    "name": "ipython",
    "version": 3
   },
   "file_extension": ".py",
   "mimetype": "text/x-python",
   "name": "python",
   "nbconvert_exporter": "python",
   "pygments_lexer": "ipython3",
   "version": "3.7.9"
  }
 },
 "nbformat": 4,
 "nbformat_minor": 4
}
