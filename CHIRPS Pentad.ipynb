{
 "cells": [
  {
   "cell_type": "code",
   "execution_count": 1,
   "metadata": {},
   "outputs": [],
   "source": [
    "# import Google earth engine module\n",
    "import ee\n",
    "\n",
    "#Authenticate the Google earth engine with google account\n",
    "ee.Initialize()\n",
    "\n",
    "#Pandas modules to interact data\n",
    "import numpy as np\n",
    "import pandas as pd\n",
    "import matplotlib.pyplot as plt\n",
    "%matplotlib inline\n",
    "import pandas as pd\n",
    "import numpy as np\n",
    "import os\n",
    "from itertools import groupby\n",
    "import matplotlib.pyplot as plt\n",
    "import ee\n",
    "import folium\n",
    "import time\n",
    "import geopandas as gpd\n",
    "import sklearn\n",
    "import scipy\n",
    "from sklearn.linear_model import LinearRegression\n",
    "import progressbar\n",
    "from time import sleep\n",
    "from scipy.stats import pearsonr\n",
    "import operator\n",
    "from sklearn.linear_model import LinearRegression\n",
    "from sklearn.metrics import mean_squared_error, r2_score\n",
    "from sklearn.preprocessing import PolynomialFeatures\n",
    "import matplotlib\n",
    "\n",
    "def plot_regression(O, P):\n",
    "    O = np.array(O)\n",
    "    P = np.array(P)\n",
    "    plt.figure(figsize = (6, 6))\n",
    "    plt.grid(zorder = 1)\n",
    "    plt.scatter(O, P, edgecolor='black', linewidth=1, zorder = 2)\n",
    "    corr, _ = pearsonr(O, P)\n",
    "    regmodel = LinearRegression()\n",
    "    regmodel.fit(O.values.reshape(-1,1), P)\n",
    "    rsq = regmodel.score(O.values.reshape(-1,1), P)\n",
    "    plt.plot(O.values.reshape(-1,1), regmodel.predict(O.values.reshape(-1,1)), color = 'orange', linestyle = '--', zorder = 3)\n",
    "    plt.legend([u'Pearson R\\u00b2: {:.3f} &\\nPearson R: {:.3f}'.format(corr**2, corr), '1:1 Plot', 'Observed - Predicted'])\n",
    "\n",
    "    plt.xlabel('VV')\n",
    "    plt.ylabel('SM modelled')\n",
    "    print(np.round(corr*100, 3), '%')\n",
    "    return regmodel.intercept_, regmodel.coef_"
   ]
  },
  {
   "cell_type": "code",
   "execution_count": 3,
   "metadata": {},
   "outputs": [
    {
     "name": "stdout",
     "output_type": "stream",
     "text": [
      "    id longitude latitude precipitation\n",
      "1    0     22.99    40.54       93.6777\n",
      "2    1     22.99    40.54       11.8838\n",
      "3    2     22.99    40.54       11.9714\n",
      "4    3     22.99    40.54       33.9079\n",
      "5    4     22.99    40.54       32.7342\n",
      "6    5     22.99    40.54       32.8328\n",
      "7    6     22.99    40.54       31.4208\n",
      "8    7     22.99    40.54        5.0256\n",
      "9    8     22.99    40.54       19.3447\n",
      "10   9     22.99    40.54         19.42\n",
      "11  10     22.99    40.54       63.7343\n",
      "12  11     22.99    40.54       51.2662\n"
     ]
    },
    {
     "data": {
      "text/plain": [
       "[<matplotlib.lines.Line2D at 0x21fd33043c8>]"
      ]
     },
     "execution_count": 3,
     "metadata": {},
     "output_type": "execute_result"
    },
    {
     "data": {
      "image/png": "[encoded data removed]",
      "text/plain": [
       "<Figure size 432x288 with 1 Axes>"
      ]
     },
     "metadata": {
      "needs_background": "light"
     },
     "output_type": "display_data"
    }
   ],
   "source": [
    "# import the RS products\n",
    "chirps = ee.ImageCollection('UCSB-CHG/CHIRPS/DAILY')\n",
    " \n",
    "# Define time range\n",
    "startyear = 2019\n",
    "endyear = 2020\n",
    "\n",
    "# Set date in ee date format\n",
    "startdate = ee.Date.fromYMD(startyear,1,1)\n",
    "enddate = ee.Date.fromYMD(endyear+1,12,31)\n",
    "\n",
    " \n",
    "# create list for years\n",
    "years = range(startyear,endyear);\n",
    " \n",
    "# make a list with months\n",
    "months = range(1,13)\n",
    "\n",
    "#Filter to select Precipitation band\n",
    "PrecipitationChirps = chirps.filterDate(startdate, enddate).sort('system:time_start', False).select(\"precipitation\")\n",
    " \n",
    "# Define geograpic \n",
    "point = ee.Geometry.Point([22.99, 40.54])\n",
    " \n",
    "# calculate the monthly Sum\n",
    "def MonthlySum(imageCollection):\n",
    "    mylist = ee.List([])\n",
    "    for y in years:\n",
    "        for m in months:\n",
    "            w = imageCollection.filter(ee.Filter.calendarRange(y, y, 'year')).filter(ee.Filter.calendarRange(m, m, 'month')).sum()\n",
    "            #mylist = mylist.add(w)\n",
    "            mylist = mylist.add(w.set('year', y).set('month', m).set('date', ee.Date.fromYMD(y,m,1)).set('system:time_start',ee.Date.fromYMD(y,m,1)))\n",
    "    return ee.ImageCollection.fromImages(mylist)\n",
    " \n",
    "# run the calcMonthlyMean function\n",
    "monthlyChirps = ee.ImageCollection(MonthlySum(PrecipitationChirps))\n",
    "\n",
    "\n",
    "# select the region of interest, 25000 is the cellsize in meters\n",
    "monthlyChirps = monthlyChirps.getRegion(point,1,\"epsg:4326\").getInfo()\n",
    "\n",
    "\n",
    "# get january (index = 0)\n",
    "precipiation = pd.DataFrame(monthlyChirps, columns = monthlyChirps[0])\n",
    "\n",
    "# remove the first line\n",
    "precipiation = precipiation[1:]\n",
    "\n",
    "#to display the data\n",
    "print(precipiation[['id','longitude','latitude','precipitation']])\n",
    "\n",
    "plt.plot(precipiation.precipitation)"
   ]
  },
  {
   "cell_type": "code",
   "execution_count": 16,
   "metadata": {},
   "outputs": [
    {
     "data": {
      "text/plain": [
       "Short Date \n",
       "2008-01-31    21.918311\n",
       "2008-02-29    20.193871\n",
       "2008-03-31    26.067831\n",
       "2008-04-30    33.634751\n",
       "2008-05-31    38.131839\n",
       "                ...    \n",
       "2020-06-30    53.147102\n",
       "2020-07-31    66.318178\n",
       "2020-08-31    69.277465\n",
       "2020-09-30    53.718180\n",
       "2020-10-31    39.056847\n",
       "Freq: M, Name: ea, Length: 154, dtype: float64"
      ]
     },
     "execution_count": 16,
     "metadata": {},
     "output_type": "execute_result"
    }
   ],
   "source": [
    "#Read AUTH Station data\n",
    "auth = pd.read_excel(r\"C:\\Users\\owner\\Google Drive 2\\Radiation Paper\\Statgrahics\\check_equations\\auth.xlsx\", skiprows = [1, 2], parse_dates = True, engine='openpyxl')\n",
    "auth.index = auth.iloc[:, 1]\n",
    "# auth = auth.drop(['Short Date'], axis = 1)\n",
    "auth = auth.iloc[:, 12]\n",
    "p = auth.loc['01-2008':].resample('M').sum()\n",
    "p"
   ]
  },
  {
   "cell_type": "code",
   "execution_count": 25,
   "metadata": {},
   "outputs": [
    {
     "data": {
      "text/plain": [
       "(144,)"
      ]
     },
     "execution_count": 25,
     "metadata": {},
     "output_type": "execute_result"
    }
   ],
   "source": [
    "np.shape(precipiation.precipitation)"
   ]
  },
  {
   "cell_type": "code",
   "execution_count": null,
   "metadata": {},
   "outputs": [],
   "source": []
  },
  {
   "cell_type": "code",
   "execution_count": null,
   "metadata": {},
   "outputs": [],
   "source": []
  }
 ],
 "metadata": {
  "kernelspec": {
   "display_name": "Python 3",
   "language": "python",
   "name": "python3"
  },
  "language_info": {
   "codemirror_mode": {
    "name": "ipython",
    "version": 3
   },
   "file_extension": ".py",
   "mimetype": "text/x-python",
   "name": "python",
   "nbconvert_exporter": "python",
   "pygments_lexer": "ipython3",
   "version": "3.7.10"
  }
 },
 "nbformat": 4,
 "nbformat_minor": 2
}
