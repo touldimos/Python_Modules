{
 "cells": [
  {
   "cell_type": "markdown",
   "metadata": {},
   "source": [
    "# Hyetograph and Hydrograph of event\n",
    "\n",
    "### For the function to work, arrays of flow and rain should be given using as indeces daytime format.\n",
    "#### Examle 1:"
   ]
  },
  {
   "cell_type": "raw",
   "metadata": {},
   "source": [
    "flow = pd.read_csv('week_8_2003-2013_flow_data_15_min_corr.csv')\n",
    "flow.index = pd.to_datetime(flow.loc[:, ['year', 'month', 'day', 'hour', 'minute']])\n",
    "rain.index = pd.to_datetime(rain.loc[:, ['year', 'month', 'day', 'hour', 'minute']]).rename(columns = {'02146409': '409', '02146507': '507'})\n",
    "rain = rain.drop(axis = 1, columns = ['year', 'month', 'day', 'hour', 'minute']).rename(columns = {'02146409': '409', '02146507': '507'})\n",
    "rain_24h = pd.DataFrame()\n",
    "rain_24h['409sum'] = rain['409'].resample(rule = 'D').sum()\n",
    "rain_24h['507sum'] = rain['507'].resample(rule = 'D').sum() \n",
    "rain_24h['409mean'] = rain['409'].resample(rule = 'D').mean() \n",
    "rain_24h['507mean'] = rain['507'].resample(rule = 'D').mean()\n",
    "\n",
    "flow_24h = pd.DataFrame()\n",
    "flow_24h['409sum'] = summer_flow['409mmh'].resample(rule = 'D').sum()\n",
    "flow_24h['507sum'] = summer_flow['507mmh'].resample(rule = 'D').sum()\n",
    "flow_24h['409mean'] = summer_flow['409mmh'].resample(rule = 'D').mean()\n",
    "flow_24h['507mean'] = summer_flow['507mmh'].resample(rule = 'D').mean()\n",
    "flow_24h.head()"
   ]
  },
  {
   "cell_type": "markdown",
   "metadata": {},
   "source": [
    "#### Examle 2:"
   ]
  },
  {
   "cell_type": "raw",
   "metadata": {},
   "source": [
    "charlotte_rainfall = pd.read_csv(r'charlotte_rg_2003-2014.csv', names = [ 'year' , 'month' , 'day' , 'hour' , 'minute', 'rainfall'])\n",
    "charlotte_rainfall.loc[:, 'dt'] = pd.to_datetime(charlotte_rainfall.loc[:, ['year', 'month', 'day', 'hour', 'minute']])\n",
    "charlotte_rainfall = charlotte_rainfall.set_index('dt')\n",
    "\n",
    "#MILITARY HOURS TO DATETIME\n",
    "rotterdam_rainfall = pd.read_csv(r'rotterdam_rg_2003-2014.csv', skipinitialspace=True)\n",
    "\n",
    "#Format data for the Rotterdam data set\n",
    "dates = rotterdam_rainfall['Datum']\n",
    "time = rotterdam_rainfall['Tijd']\n",
    "dates = dates.map(str)\n",
    "date_split = dates.str.extract('(.{4})(.{2})(.{2})', expand=True)\n",
    "\n",
    "time=time.apply(lambda x: '%04d' % x)\n",
    "time_split = time.str.extract('(.{2})(.{2})', expand=True)\n",
    "\n",
    "date_split.loc[:,3] = time_split.loc[:,0]\n",
    "date_split.loc[:,4] = time_split.loc[:,1]\n",
    "\n",
    "rotterdam_rainfall.loc[:,'dt'] = pd.to_datetime(dict(year=date_split[0], month=date_split[1], day=date_split[2], hour=date_split[3], minute=date_split[4]))\n",
    "rotterdam_rainfall.index=rotterdam_rainfall['dt']"
   ]
  },
  {
   "cell_type": "markdown",
   "metadata": {},
   "source": [
    "# Hyetograph and Hydrograph of event"
   ]
  },
  {
   "cell_type": "code",
   "execution_count": 2,
   "metadata": {},
   "outputs": [],
   "source": [
    "def hyetoplot(flow, rain, plotsize, catchment, No_event, xaxis):\n",
    "    from matplotlib.dates import DateFormatter, MonthLocator\n",
    "    fig, ax = plt.subplots(figsize = plotsize)\n",
    "    ax.plot(range(0, len(flow)), flow, \"r--\", label='Flow')\n",
    "    ax2 = ax.twinx()\n",
    "    rain.plot(kind = 'bar', ax = ax2, width = 1, alpha = 0.7, label = 'Rainfall')\n",
    "    ax.set_xlabel('Date')\n",
    "    ax.set_ylabel('Flow [mm/h]')\n",
    "    ax2.set_ylabel('Rainfall [mm/h]')\n",
    "    ax2.invert_yaxis()\n",
    "    plt.grid()\n",
    "    plt.title(f'Hyetograph and Hydrograph of event {No_event + 1} at catchment {catchment}')\n",
    "    ax.xaxis.set_major_locator(plt.MaxNLocator(xaxis))\n",
    "    fig.autofmt_xdate()\n",
    "    handles,labels = [],[]\n",
    "    for ax in fig.axes:\n",
    "        for h,l in zip(*ax.get_legend_handles_labels()):\n",
    "            handles.append(h)\n",
    "            labels.append(l)\n",
    "    plt.legend(handles, labels, loc = 'best')\n",
    "    plt.show();"
   ]
  }
 ],
 "metadata": {
  "kernelspec": {
   "display_name": "Python 3",
   "language": "python",
   "name": "python3"
  },
  "language_info": {
   "codemirror_mode": {
    "name": "ipython",
    "version": 3
   },
   "file_extension": ".py",
   "mimetype": "text/x-python",
   "name": "python",
   "nbconvert_exporter": "python",
   "pygments_lexer": "ipython3",
   "version": "3.7.6"
  }
 },
 "nbformat": 4,
 "nbformat_minor": 4
}
