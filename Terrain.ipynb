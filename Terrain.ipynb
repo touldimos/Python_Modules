{
 "cells": [
  {
   "cell_type": "code",
   "execution_count": 24,
   "metadata": {},
   "outputs": [],
   "source": [
    "import rasterio\n",
    "import pandas as pd\n",
    "import numpy as np\n",
    "import matplotlib.pyplot as plt\n",
    "from ipywidgets import interact, interactive, fixed, interact_manual\n",
    "\n",
    "elevations = []\n",
    "elev_raster = r'C:\\Users\\owner\\Google Drive 2\\Additional Thesis\\wc2.1_10m_elev\\wc2.1_10m_elev.tif'\n",
    "elev = (rasterio.open(elev_raster)).read()\n",
    "rows = elev.shape[1]\n",
    "cols = elev.shape[2]\n",
    "elev = np.reshape(elev, (1, rows, cols))\n",
    "elev = elev.astype(\"float\")\n",
    "elev[elev == -32768] = np.nan\n",
    "\n",
    "m = 500; l = 10\n",
    "n = 1000; k = 10\n",
    "\n",
    "\n",
    "for i in range(int(n), int(n) + l):\n",
    "     for j in range(int(m), int(m) + k):\n",
    "            z = elev[0][i][j]\n",
    "            elevations.append(z)\n",
    "            \n",
    "#Terrain\n",
    "elevation = np.reshape(elevations, (l, k))\n",
    "elevation[np.isnan(elevation)] = 0\n",
    "data = pd.DataFrame(elevation)\n",
    "\n",
    "# Transform it to a long format\n",
    "df=data.unstack().reset_index()\n",
    "df.columns=[\"X\",\"Y\",\"Z\"]\n",
    "\n",
    "# And transform the old column name in something numeric\n",
    "df['X']=pd.Categorical(df['X'])\n",
    "df['X']=df['X'].cat.codes"
   ]
  },
  {
   "cell_type": "code",
   "execution_count": 25,
   "metadata": {},
   "outputs": [
    {
     "data": {
      "application/vnd.jupyter.widget-view+json": {
       "model_id": "a013f05121ce4f82955e49783b8e9aaa",
       "version_major": 2,
       "version_minor": 0
      },
      "text/plain": [
       "interactive(children=(IntSlider(value=45, description='a', max=90, step=5), IntSlider(value=45, description='e…"
      ]
     },
     "metadata": {},
     "output_type": "display_data"
    }
   ],
   "source": [
    "def terrain(a, e):\n",
    "    fig = plt.figure(figsize = (15, 15))\n",
    "    ax = fig.gca(projection='3d')\n",
    "    ax.plot_trisurf(df['Y'], df['X'], df['Z'], cmap=plt.cm.viridis, linewidth=0.2)\n",
    "    surf=ax.plot_trisurf(df['Y'], df['X'], df['Z'], cmap=plt.cm.viridis, linewidth=0.2)\n",
    "    fig.colorbar(surf, shrink=0.5, aspect=5)\n",
    "    ax.view_init(azim = a, elev = e)\n",
    "\n",
    "interact(terrain, a = (0, 90, 5), e = (0, 90, 5));"
   ]
  },
  {
   "cell_type": "code",
   "execution_count": null,
   "metadata": {},
   "outputs": [],
   "source": []
  }
 ],
 "metadata": {
  "kernelspec": {
   "display_name": "Python 3",
   "language": "python",
   "name": "python3"
  },
  "language_info": {
   "codemirror_mode": {
    "name": "ipython",
    "version": 3
   },
   "file_extension": ".py",
   "mimetype": "text/x-python",
   "name": "python",
   "nbconvert_exporter": "python",
   "pygments_lexer": "ipython3",
   "version": "3.7.8"
  }
 },
 "nbformat": 4,
 "nbformat_minor": 4
}
