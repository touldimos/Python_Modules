{
 "cells": [
  {
   "cell_type": "code",
   "execution_count": 1,
   "id": "c27b95a8",
   "metadata": {},
   "outputs": [
    {
     "name": "stderr",
     "output_type": "stream",
     "text": [
      "C:\\Users\\owner\\anaconda3\\lib\\site-packages\\ipykernel_launcher.py:15: DeprecationWarning: `set_matplotlib_formats` is deprecated since IPython 7.23, directly use `matplotlib_inline.backend_inline.set_matplotlib_formats()`\n",
      "  from ipykernel import kernelapp as app\n"
     ]
    }
   ],
   "source": [
    "import ee\n",
    "import numpy as np\n",
    "from osgeo import gdal\n",
    "from osgeo import osr\n",
    "import time\n",
    "import matplotlib.pyplot as plt\n",
    "from matplotlib.ticker import FuncFormatter\n",
    "import pandas as pd\n",
    "import seaborn as sns\n",
    "from scipy import stats\n",
    "import folium\n",
    "from mpl_toolkits.mplot3d import Axes3D\n",
    "from ipywidgets import interact, interactive, fixed, interact_manual\n",
    "from IPython.display import set_matplotlib_formats\n",
    "set_matplotlib_formats('svg')\n",
    "from matplotlib import rcParams\n",
    "import matplotlib.cm as cm # matplotlib's color map library\n",
    "import warnings\n",
    "\n",
    "warnings.filterwarnings(\"ignore\")\n",
    "\n",
    "# init the ee object\n",
    "ee.Initialize()"
   ]
  },
  {
   "cell_type": "code",
   "execution_count": 2,
   "id": "9d3d96f5",
   "metadata": {},
   "outputs": [],
   "source": [
    "# https://www.techforwildlife.com/blog/2019/1/22/analysing-drone-and-satellite-imagery-using-vegetation-indices\n",
    "def p2r(point, area_size = 500):\n",
    "    dist_lat = abs(area_size / 110.540)/1000\n",
    "    dist_lon = abs(area_size / (111.320 * np.cos(point[0])))/1000\n",
    "    area = {\"type\": \"FeatureCollection\", \"features\": [{\"type\": \"Feature\", \"properties\": {},\"geometry\": {\"type\": \"Polygon\", \"coordinates\": [[[point[0] - dist_lon/2, point[1] - dist_lat/2], [point[0] + dist_lon/2, point[1] - dist_lat/2], [point[0] + dist_lon/2, point[1] + dist_lat/2], [point[0] - dist_lon/2, point[1] + dist_lat/2], [point[0] - dist_lon/2, point[1] - dist_lat/2]]]}}]}\n",
    "    coords_area = area['features'][0]['geometry']['coordinates']\n",
    "    aoi_area = ee.Geometry.Polygon(coords_area)\n",
    "    return area, aoi_area\n",
    "\n",
    "def terrain(df):\n",
    "    fig = plt.figure()\n",
    "    ax = fig.gca(projection='3d')\n",
    "    ax.plot_trisurf(df['Y'], df['X'], df['Z'], cmap=plt.cm.viridis, linewidth=0.2)\n",
    "    surf=ax.plot_trisurf(df['Y'], df['X'], df['Z'], cmap=plt.cm.viridis, linewidth=0.2)\n",
    "    fig.colorbar(surf, shrink=0.5, aspect=5)\n",
    "    ax.view_init(azim = 45, elev = 45)\n",
    "\n",
    "def terrain_3d(a, e):\n",
    "    fig = plt.figure()\n",
    "    ax = fig.gca(projection='3d')\n",
    "    ax.plot_trisurf(df['Y'], df['X'], df['Z'], cmap=plt.cm.viridis, linewidth=0.2)\n",
    "    surf=ax.plot_trisurf(df['Y'], df['X'], df['Z'], cmap=plt.cm.viridis, linewidth=0.2)\n",
    "    fig.colorbar(surf, shrink=0.5, aspect=5)\n",
    "    ax.view_init(azim = a, elev = e)\n",
    "    \n",
    "def contour_plt(df, no_con):\n",
    "    Z = df.pivot_table(index='X', columns='Y', values='Z').T.values\n",
    "\n",
    "    X_unique = np.sort(df.X.unique())\n",
    "    Y_unique = np.sort(df.Y.unique())\n",
    "    X, Y = np.meshgrid(X_unique, Y_unique)\n",
    "\n",
    "    # Initialize plot objects\n",
    "    rcParams['figure.figsize'] = 5, 5 # sets plot size\n",
    "    fig = plt.figure()\n",
    "    ax = fig.add_subplot(111)\n",
    "\n",
    "    # Define levels in z-axis where we want lines to appear\n",
    "    levels = np.linspace(np.min(df['Z']), np.max(df['Z']), no_con)\n",
    "\n",
    "    # Generate a color mapping of the levels we've specified\n",
    "    cpf = ax.contourf(X, Y, Z, len(levels), cmap = cm.Reds)\n",
    "\n",
    "    # Set all level lines to black\n",
    "    line_colors = ['black' for l in cpf.levels]\n",
    "\n",
    "    # Make plot and customize axes\n",
    "    cp = ax.contour(X, Y, Z, levels=levels, colors=line_colors)\n",
    "    ax.clabel(cp, fontsize=10, colors=line_colors)\n",
    "    plt.xticks()\n",
    "    plt.yticks()\n",
    "    ax.set_xlabel('X-axis')\n",
    "    _ = ax.set_ylabel('Y-axis')\n",
    "    plt.grid()"
   ]
  },
  {
   "cell_type": "code",
   "execution_count": 3,
   "id": "5867a394",
   "metadata": {},
   "outputs": [],
   "source": [
    "areaJson, area = p2r([23.0043, 40.5241], area_size = 500)\n",
    "area = ee.Geometry.Rectangle([40.5241, 23.0043, 40.5241 + 0.01, 23.0043 + 0.01])"
   ]
  },
  {
   "cell_type": "code",
   "execution_count": 4,
   "id": "3a41e533",
   "metadata": {},
   "outputs": [],
   "source": [
    "def elevations(area):\n",
    "    img1 = ee.Image('USGS/SRTMGL1_003') \\\n",
    "  .select(['elevation'])\n",
    "    new=img1.toArray().toArray(1)\n",
    "\n",
    "    band_arrs = img1.sampleRectangle(region=area)\n",
    "    band_arr_b2 = band_arrs.get('elevation')\n",
    "    np_arr_b2 = np.array(band_arr_b2.getInfo())\n",
    "\n",
    "    latlon = ee.Image.pixelLonLat().addBands(img1)\n",
    "    latlon = latlon.reduceRegion(\n",
    "      reducer=ee.Reducer.toList(),\n",
    "      geometry=area,\n",
    "      scale=100);\n",
    "    lats = np.array((ee.Array(latlon.get(\"latitude\")).getInfo()))\n",
    "    lons = np.array((ee.Array(latlon.get(\"longitude\")).getInfo()))\n",
    "    return np_arr_b2, lats, lons\n",
    "\n",
    "np_arr_b2, lats, lons = elevations(area)\n",
    "# np_arr_b2 = np.where(np_arr_b2 > 968, np_arr_b2, np.nan)\n",
    "df = pd.DataFrame(np_arr_b2).unstack().reset_index()\n",
    "df.columns = [\"X\",\"Y\",\"Z\"]\n",
    " \n",
    "df['X'] = pd.Categorical(df['X'])\n",
    "df['X'] = df['X'].cat.codes"
   ]
  },
  {
   "cell_type": "code",
   "execution_count": null,
   "id": "c528730a",
   "metadata": {},
   "outputs": [],
   "source": []
  }
 ],
 "metadata": {
  "kernelspec": {
   "display_name": "Python 3",
   "language": "python",
   "name": "python3"
  },
  "language_info": {
   "codemirror_mode": {
    "name": "ipython",
    "version": 3
   },
   "file_extension": ".py",
   "mimetype": "text/x-python",
   "name": "python",
   "nbconvert_exporter": "python",
   "pygments_lexer": "ipython3",
   "version": "3.7.10"
  }
 },
 "nbformat": 4,
 "nbformat_minor": 5
}
