{
 "cells": [
  {
   "cell_type": "code",
   "execution_count": 101,
   "metadata": {},
   "outputs": [
    {
     "data": {
      "text/html": [
       "<div>\n",
       "<style scoped>\n",
       "    .dataframe tbody tr th:only-of-type {\n",
       "        vertical-align: middle;\n",
       "    }\n",
       "\n",
       "    .dataframe tbody tr th {\n",
       "        vertical-align: top;\n",
       "    }\n",
       "\n",
       "    .dataframe thead th {\n",
       "        text-align: right;\n",
       "    }\n",
       "</style>\n",
       "<table border=\"1\" class=\"dataframe\">\n",
       "  <thead>\n",
       "    <tr style=\"text-align: right;\">\n",
       "      <th></th>\n",
       "      <th>Apps</th>\n",
       "      <th>Goals</th>\n",
       "    </tr>\n",
       "    <tr>\n",
       "      <th>Club</th>\n",
       "      <th></th>\n",
       "      <th></th>\n",
       "    </tr>\n",
       "  </thead>\n",
       "  <tbody>\n",
       "    <tr>\n",
       "      <th>Argentinos Juniors[56][322]</th>\n",
       "      <td>166</td>\n",
       "      <td>116</td>\n",
       "    </tr>\n",
       "    <tr>\n",
       "      <th>Boca Juniors[56][322]</th>\n",
       "      <td>71</td>\n",
       "      <td>35</td>\n",
       "    </tr>\n",
       "    <tr>\n",
       "      <th>Barcelona[56]</th>\n",
       "      <td>58</td>\n",
       "      <td>38</td>\n",
       "    </tr>\n",
       "    <tr>\n",
       "      <th>Napoli[56]</th>\n",
       "      <td>259</td>\n",
       "      <td>115</td>\n",
       "    </tr>\n",
       "    <tr>\n",
       "      <th>Sevilla[56]</th>\n",
       "      <td>29</td>\n",
       "      <td>8</td>\n",
       "    </tr>\n",
       "    <tr>\n",
       "      <th>Newell's Old Boys[56][322]</th>\n",
       "      <td>5</td>\n",
       "      <td>0</td>\n",
       "    </tr>\n",
       "    <tr>\n",
       "      <th>Career total</th>\n",
       "      <td>588</td>\n",
       "      <td>312</td>\n",
       "    </tr>\n",
       "  </tbody>\n",
       "</table>\n",
       "</div>"
      ],
      "text/plain": [
       "                             Apps  Goals\n",
       "Club                                    \n",
       "Argentinos Juniors[56][322]   166    116\n",
       "Boca Juniors[56][322]          71     35\n",
       "Barcelona[56]                  58     38\n",
       "Napoli[56]                    259    115\n",
       "Sevilla[56]                    29      8\n",
       "Newell's Old Boys[56][322]      5      0\n",
       "Career total                  588    312"
      ]
     },
     "execution_count": 101,
     "metadata": {},
     "output_type": "execute_result"
    }
   ],
   "source": [
    "import pandas as pd\n",
    "\n",
    "def wiki_reader(source: str, competition) -> pd.DataFrame:\n",
    "    df = pd.read_html(source)[4]\n",
    "    df1 = df[['Season', 'Club']]\n",
    "    header1 = [i[1] for i in df1.columns]\n",
    "    df1.columns = header1\n",
    "    df2 = df[competition]\n",
    "    header2 = [i for i in df2.columns]\n",
    "    df2.columns = header2\n",
    "    new_df = pd.concat([df1, df2], axis = 1)\n",
    "    mask = new_df['Season'].isin(['Total', 'Carrer total'])\n",
    "    new_df = new_df.loc[~(mask), :]\n",
    "    new_df.index = new_df['Club']\n",
    "    subsums = new_df.sum(level='Club')\n",
    "    new_df.index = new_df['Season']\n",
    "    del new_df['Season']\n",
    "    return new_df, subsums\n",
    "\n",
    "df, subsums = wiki_reader('https://en.wikipedia.org/wiki/Diego_Maradona', 'Total')\n",
    "subsums"
   ]
  },
  {
   "cell_type": "code",
   "execution_count": null,
   "metadata": {},
   "outputs": [],
   "source": []
  }
 ],
 "metadata": {
  "kernelspec": {
   "display_name": "Python 3",
   "language": "python",
   "name": "python3"
  },
  "language_info": {
   "codemirror_mode": {
    "name": "ipython",
    "version": 3
   },
   "file_extension": ".py",
   "mimetype": "text/x-python",
   "name": "python",
   "nbconvert_exporter": "python",
   "pygments_lexer": "ipython3",
   "version": "3.7.8"
  }
 },
 "nbformat": 4,
 "nbformat_minor": 4
}
