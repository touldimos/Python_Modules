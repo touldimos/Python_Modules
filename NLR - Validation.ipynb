{
 "cells": [
  {
   "cell_type": "code",
   "execution_count": 11,
   "metadata": {},
   "outputs": [],
   "source": [
    "#0 - Short Data\n",
    "#1 - Julian\n",
    "#2 - Count\n",
    "#3 - T\n",
    "#4 - Tmax\n",
    "#5 - Tmin\n",
    "#6 - U2\n",
    "#7 - es (Tmin)\n",
    "#8 - es(Tmin)\n",
    "#9 - es\n",
    "#10 - ea\n",
    "#11 - Δ\n",
    "#12 - P\n",
    "#13 - RS\n",
    "#14 - RH\n",
    "#15 - RH_max\n",
    "#16 - RH_min\n",
    "#17 - Soil Temp\n",
    "#18 - Rn\n",
    "#19 - Ra\n",
    "#20 - dt\n",
    "#21 - es-ea\n",
    "#22 - Eτο"
   ]
  },
  {
   "cell_type": "markdown",
   "metadata": {},
   "source": [
    "## Optimisation instructions\n",
    "\n",
    "1. Define unknows as xm1, xm2 ...\n",
    "2. Define known as ym\n",
    "3. Define in calc_y the extra parameters\n",
    "4. Give an initial guess for the extra parameter"
   ]
  },
  {
   "cell_type": "code",
   "execution_count": 3,
   "metadata": {},
   "outputs": [
    {
     "name": "stdout",
     "output_type": "stream",
     "text": [
      "Solution\n",
      "A = 0.003802637635769707\n",
      "B = 1.1568398187015987\n",
      "C = 0.04838840013906266\n",
      "D = 0.0\n",
      " \n",
      "R^2 validation = 0.926\n",
      " \n",
      "R^2 = 0.918\n"
     ]
    },
    {
     "data": {
      "image/png": "[encoded data removed]",
      "text/plain": [
       "<Figure size 432x288 with 1 Axes>"
      ]
     },
     "metadata": {
      "needs_background": "light"
     },
     "output_type": "display_data"
    }
   ],
   "source": [
    "import numpy as np\n",
    "from sklearn import model_selection\n",
    "from scipy.optimize import minimize\n",
    "import pandas as pd\n",
    "import numpy as np\n",
    "import matplotlib.pyplot as plt\n",
    "from scipy import stats\n",
    "\n",
    "# data file\n",
    "df = pd.read_excel('auth.xlsx', skiprows=[1, 2], index_col = 0)\n",
    "X_multi = df.drop('Ετο', 1)\n",
    "Y_target = df.Ετο\n",
    "\n",
    "# Grab the output and set as X and Y test and train data sets!\n",
    "X_train, X_test, Y_train, Y_test = sklearn.model_selection.train_test_split(df, Y_target, test_size = 0.3)\n",
    "\n",
    "xm1 = np.array(X_train[\"RS\"])\n",
    "xm2 = np.array(X_train[\"es-ea\"])\n",
    "xm3 = np.array(X_train[\"Julian\"])\n",
    "ym = np.array(Y_train)\n",
    "\n",
    "# calculate y\n",
    "def calc_y(x):\n",
    "    a = x[0]\n",
    "    b = x[1]\n",
    "    c = x[2]\n",
    "#     d = x[3]\n",
    "    #y = a * xm1 + b                                             # linear regression\n",
    "    y = a * xm1 ** 2 + b * np.sqrt(xm2) ** 2 + c                 # nonlinear regression\n",
    "    return y\n",
    "\n",
    "def objective(x):\n",
    "    y = calc_y(x)\n",
    "    obj = 0.0\n",
    "    for i in range(len(ym)):\n",
    "        obj = obj + ((y[i]-ym[i])/ym[i])**2    \n",
    "    return obj\n",
    "\n",
    "# initial guesses\n",
    "x0 = np.zeros(5)\n",
    "x0[0] = 0.0 # a\n",
    "x0[1] = 0.0 # b\n",
    "x0[2] = 0.0 # c\n",
    "# x0[3] = 0.0 # d\n",
    "\n",
    "# optimize\n",
    "solution = minimize(objective, x0, method='SLSQP')\n",
    "x = solution.x\n",
    "y = calc_y(x)\n",
    "\n",
    "# print solution\n",
    "print('Solution')\n",
    "\n",
    "cA = 'A = ' + str(x[0])\n",
    "print(cA)\n",
    "cB = 'B = ' + str(x[1])\n",
    "print(cB)\n",
    "cC = 'C = ' + str(x[2])\n",
    "print(cC)\n",
    "cD = 'D = ' + str(x[3])\n",
    "print(cD)\n",
    "# cE = 'E = ' + str(x[4])\n",
    "# print(cE)\n",
    "print(' ')\n",
    "\n",
    "#Validation\n",
    "y_pred = x[0] * X_test[\"RS\"] ** 2 + x[1] * np.sqrt(X_test[\"es-ea\"]) ** 2 + x[2]\n",
    "\n",
    "slope_test, intercept_test, r_value_test, p_value_test, std_err_test = stats.linregress(Y_test, y_pred)\n",
    "r2_test = r_value_test**2\n",
    "cR2_test = \"R^2 validation = \" + str(np.round(r_value_test**2, 3))\n",
    "print(cR2_test)\n",
    "print(' ')\n",
    "\n",
    "slope, intercept, r_value, p_value, std_err = stats.linregress(Y_train, y)\n",
    "r2 = r_value**2\n",
    "cR2 = \"R^2 = \" + str(np.round(r_value**2, 3))\n",
    "print(cR2)\n",
    "\n",
    "# plot solution\n",
    "plt.figure(1)\n",
    "plt.title('Actual (YM) versus Predicted (Y) Outcomes For Non-Linear Regression')\n",
    "plt.plot(Y_test, y_pred, 'o')\n",
    "plt.xlabel('Measured Outcome (YM)')\n",
    "plt.ylabel('Predicted Outcome (Y)')\n",
    "# plt.legend([cLegend])\n",
    "plt.grid(True)\n",
    "plt.show()"
   ]
  },
  {
   "cell_type": "code",
   "execution_count": null,
   "metadata": {},
   "outputs": [],
   "source": []
  }
 ],
 "metadata": {
  "kernelspec": {
   "display_name": "Python 3",
   "language": "python",
   "name": "python3"
  }
 },
 "nbformat": 4,
 "nbformat_minor": 4
}
