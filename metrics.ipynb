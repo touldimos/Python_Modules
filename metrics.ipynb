{
 "cells": [
  {
   "cell_type": "code",
   "execution_count": 1,
   "metadata": {},
   "outputs": [],
   "source": [
    "import sklearn\n",
    "from sklearn import model_selection\n",
    "from scipy.optimize import minimize\n",
    "from scipy import stats\n",
    "\n",
    "\n",
    "def metrics(O, P):\n",
    "    mae = sklearn.metrics.mean_absolute_error(O, P)\n",
    "    mdae = sklearn.metrics.median_absolute_error(O, P)\n",
    "    RSq = sklearn.metrics.r2_score(O, P)\n",
    "    rmse = sklearn.metrics.mean_squared_error(O, P, squared=False)\n",
    "    R2 = stats.linregress(O, P)[2]**2\n",
    "    return mae, mdae, rmse, RSq, R2"
   ]
  }
 ],
 "metadata": {
  "kernelspec": {
   "display_name": "Python 3",
   "language": "python",
   "name": "python3"
  },
  "language_info": {
   "codemirror_mode": {
    "name": "ipython",
    "version": 3
   },
   "file_extension": ".py",
   "mimetype": "text/x-python",
   "name": "python",
   "nbconvert_exporter": "python",
   "pygments_lexer": "ipython3",
   "version": "3.7.9"
  }
 },
 "nbformat": 4,
 "nbformat_minor": 4
}
