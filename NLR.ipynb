{
 "cells": [
  {
   "cell_type": "code",
   "execution_count": 10,
   "metadata": {},
   "outputs": [],
   "source": [
    "import numpy as np\n",
    "import pandas as pd\n",
    "from pandas import read_csv\n",
    "from IPython.display import display\n",
    "import matplotlib.pyplot as plt\n",
    "%matplotlib inline\n",
    "from pandas import Series,DataFrame\n",
    "import seaborn as sns\n",
    "\n",
    "import sklearn\n",
    "from sklearn import metrics\n",
    "from sklearn import preprocessing as pre\n",
    "from sklearn.preprocessing import PolynomialFeatures\n",
    "from sklearn.linear_model import LinearRegression\n",
    "from sklearn.pipeline import Pipeline, make_pipeline\n",
    "from sklearn import linear_model\n",
    "from sklearn.ensemble import RandomForestRegressor\n",
    "from sklearn.metrics import confusion_matrix\n",
    "from sklearn.preprocessing import StandardScaler\n",
    "from sklearn.linear_model import Ridge"
   ]
  },
  {
   "cell_type": "code",
   "execution_count": 11,
   "metadata": {},
   "outputs": [],
   "source": [
    "#0 - Short Data\n",
    "#1 - Julian\n",
    "#2 - Count\n",
    "#3 - T\n",
    "#4 - Tmax\n",
    "#5 - Tmin\n",
    "#6 - U2\n",
    "#7 - es (Tmin)\n",
    "#8 - es(Tmin)\n",
    "#9 - es\n",
    "#10 - ea\n",
    "#11 - Δ\n",
    "#12 - P\n",
    "#13 - RS\n",
    "#14 - RH\n",
    "#15 - RH_max\n",
    "#16 - RH_min\n",
    "#17 - Soil Temp\n",
    "#18 - Rn\n",
    "#19 - Ra\n",
    "#20 - dt\n",
    "#21 - es-ea\n",
    "#22 - Eτο"
   ]
  },
  {
   "cell_type": "markdown",
   "metadata": {},
   "source": [
    "## Optimisation instructions\n",
    "\n",
    "1. Define unknows as xm1, xm2 ...\n",
    "2. Define known as ym\n",
    "3. Define in calc_y the extra parameters\n",
    "4. Give an initial guess for the extra parameter"
   ]
  },
  {
   "cell_type": "code",
   "execution_count": 34,
   "metadata": {},
   "outputs": [
    {
     "name": "stdout",
     "output_type": "stream",
     "text": [
      "Solution\n",
      "A = 0.003879689781926577\n",
      "B = 1.112016853806\n",
      "C = 0.06304654381865467\n",
      "D = 0.0\n",
      "R^2 correlation = 0.920918123000891\n"
     ]
    },
    {
     "data": {
      "image/png": "[encoded data removed]",
      "text/plain": [
       "<Figure size 432x288 with 1 Axes>"
      ]
     },
     "metadata": {
      "needs_background": "light"
     },
     "output_type": "display_data"
    }
   ],
   "source": [
    "import numpy as np\n",
    "from scipy.optimize import minimize\n",
    "import pandas as pd\n",
    "import numpy as np\n",
    "import matplotlib.pyplot as plt\n",
    "\n",
    "# data file\n",
    "df = pd.read_excel('auth.xlsx', skiprows=[1, 2], index_col = 0)\n",
    "\n",
    "xm1 = np.array(df[\"RS\"])\n",
    "xm2 = np.array(df[\"es-ea\"])\n",
    "xm3 = np.array(df[\"Julian\"])\n",
    "ym = np.array(df[\"Ετο\"])\n",
    "\n",
    "# calculate y\n",
    "def calc_y(x):\n",
    "    a = x[0]\n",
    "    b = x[1]\n",
    "    c = x[2]\n",
    "#     d = x[3]\n",
    "    #y = a * xm1 + b                                             # linear regression\n",
    "    y = a * xm1 ** 2 + b * np.sqrt(xm2) ** 2 + c                 # nonlinear regression\n",
    "    return y\n",
    "\n",
    "def objective(x):\n",
    "    y = calc_y(x)\n",
    "    obj = 0.0\n",
    "    for i in range(len(ym)):\n",
    "        obj = obj + ((y[i]-ym[i])/ym[i])**2    \n",
    "    return obj\n",
    "\n",
    "# initial guesses\n",
    "x0 = np.zeros(5)\n",
    "x0[0] = 0.0 # a\n",
    "x0[1] = 0.0 # b\n",
    "x0[2] = 0.0 # c\n",
    "# x0[3] = 0.0 # d\n",
    "\n",
    "# optimize\n",
    "solution = minimize(objective, x0, method='SLSQP')\n",
    "x = solution.x\n",
    "y = calc_y(x)\n",
    "\n",
    "# print solution\n",
    "print('Solution')\n",
    "\n",
    "cA = 'A = ' + str(x[0])\n",
    "print(cA)\n",
    "cB = 'B = ' + str(x[1])\n",
    "print(cB)\n",
    "cC = 'C = ' + str(x[2])\n",
    "print(cC)\n",
    "cD = 'D = ' + str(x[3])\n",
    "print(cD)\n",
    "# cE = 'E = ' + str(x[4])\n",
    "# print(cE)\n",
    "\n",
    "cFormula = \"Formula is : \" + \"\\n\" \\\n",
    "           + \"A * WTI^B * HH^C * PROPANE^D\"\n",
    "cLegend = cFormula + \"\\n\" + cA + \"\\n\" + cB + \"\\n\" \\\n",
    "           + cC + \"\\n\" + cD + \"\\n\" + cObjective\n",
    "\n",
    "#ym measured outcome\n",
    "#y  predicted outcome\n",
    "\n",
    "from scipy import stats\n",
    "slope, intercept, r_value, p_value, std_err = stats.linregress(ym, y)\n",
    "r2 = r_value**2\n",
    "cR2 = \"R^2 correlation = \" + str(r_value**2)\n",
    "print(cR2)\n",
    "\n",
    "# plot solution\n",
    "plt.figure(1)\n",
    "plt.title('Actual (YM) versus Predicted (Y) Outcomes For Non-Linear Regression')\n",
    "plt.plot(ym, y, 'o')\n",
    "plt.xlabel('Measured Outcome (YM)')\n",
    "plt.ylabel('Predicted Outcome (Y)')\n",
    "# plt.legend([cLegend])\n",
    "plt.grid(True)\n",
    "plt.show()"
   ]
  },
  {
   "cell_type": "code",
   "execution_count": null,
   "metadata": {},
   "outputs": [],
   "source": []
  }
 ],
 "metadata": {
  "kernelspec": {
   "display_name": "Python 3",
   "language": "python",
   "name": "python3"
  },
  "language_info": {
   "codemirror_mode": {
    "name": "ipython",
    "version": 3
   },
   "file_extension": ".py",
   "mimetype": "text/x-python",
   "name": "python",
   "nbconvert_exporter": "python",
   "pygments_lexer": "ipython3",
   "version": "3.7.6"
  }
 },
 "nbformat": 4,
 "nbformat_minor": 4
}
