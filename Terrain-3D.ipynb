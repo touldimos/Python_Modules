{
 "cells": [
  {
   "cell_type": "code",
   "execution_count": 13,
   "metadata": {},
   "outputs": [
    {
     "data": {
      "application/vnd.jupyter.widget-view+json": {
       "model_id": "77fb2fcb9f1141d6b899da062dc466c3",
       "version_major": 2,
       "version_minor": 0
      },
      "text/plain": [
       "interactive(children=(IntSlider(value=40, description='a', max=90, step=10), IntSlider(value=40, description='…"
      ]
     },
     "metadata": {},
     "output_type": "display_data"
    }
   ],
   "source": [
    "# library\n",
    "from mpl_toolkits.mplot3d import Axes3D\n",
    "import matplotlib.pyplot as plt\n",
    "import pandas as pd\n",
    "import seaborn as sns\n",
    "from ipywidgets import interact, interactive, fixed, interact_manual\n",
    "\n",
    " \n",
    "# Get the data (csv file is hosted on the web)\n",
    "url = 'https://python-graph-gallery.com/wp-content/uploads/volcano.csv'\n",
    "data = pd.read_csv(url)\n",
    " \n",
    "# Transform it to a long format\n",
    "df=data.unstack().reset_index()\n",
    "df.columns=[\"X\",\"Y\",\"Z\"]\n",
    " \n",
    "# And transform the old column name in something numeric\n",
    "df['X']=pd.Categorical(df['X'])\n",
    "df['X']=df['X'].cat.codes\n",
    "\n",
    "def terrain(a, e):\n",
    "    fig = plt.figure(figsize = (8, 8))\n",
    "    ax = fig.gca(projection='3d')\n",
    "    ax.plot_trisurf(df['Y'], df['X'], df['Z'], cmap=plt.cm.viridis, linewidth=0.2)\n",
    "    surf=ax.plot_trisurf(df['Y'], df['X'], df['Z'], cmap=plt.cm.viridis, linewidth=0.2)\n",
    "    fig.colorbar(surf, shrink=0.5, aspect=5)\n",
    "    ax.view_init(azim = a, elev = e)\n",
    "\n",
    "interact(terrain, a = (0, 90, 10), e = (0, 90, 10));"
   ]
  },
  {
   "cell_type": "code",
   "execution_count": null,
   "metadata": {},
   "outputs": [],
   "source": []
  }
 ],
 "metadata": {
  "kernelspec": {
   "display_name": "Python 3",
   "language": "python",
   "name": "python3"
  },
  "language_info": {
   "codemirror_mode": {
    "name": "ipython",
    "version": 3
   },
   "file_extension": ".py",
   "mimetype": "text/x-python",
   "name": "python",
   "nbconvert_exporter": "python",
   "pygments_lexer": "ipython3",
   "version": "3.7.9"
  }
 },
 "nbformat": 4,
 "nbformat_minor": 4
}
