{
 "cells": [
  {
   "cell_type": "code",
   "execution_count": 109,
   "metadata": {},
   "outputs": [],
   "source": [
    "# # import Google earth engine module\n",
    "# import ee\n",
    "\n",
    "# #Authenticate the Google earth engine with google account\n",
    "# ee.Initialize()\n",
    "\n",
    "# #import module\n",
    "\n",
    "# import folium\n",
    "\n",
    "# #Define year\n",
    "# startyear = 2019;\n",
    "# endyear = 2019;\n",
    "\n",
    "# #Create the Date object\n",
    "# startdate = ee.Date.fromYMD(startyear,1,1);\n",
    "# enddate = ee.Date.fromYMD(endyear,12,1);\n",
    "\n",
    "# # Define a method for displaying Earth Engine image tiles on a folium map.\n",
    "# def add_ee_layer(self, ee_object, vis_params, name):\n",
    "    \n",
    "#     try:    \n",
    "#         # display ee.Image()\n",
    "#         if isinstance(ee_object, ee.image.Image):    \n",
    "#             map_id_dict = ee.Image(ee_object).getMapId(vis_params)\n",
    "#             folium.raster_layers.TileLayer(\n",
    "#             tiles = map_id_dict['tile_fetcher'].url_format,\n",
    "#             attr = 'Google Earth Engine',\n",
    "#             name = name,\n",
    "#             overlay = True,\n",
    "#             control = True\n",
    "#             ).add_to(self)\n",
    "#     except:\n",
    "#         print(\"Could not display {}\".format(name))\n",
    "\n",
    "# my_map = folium.Map([41, 23], zoom_start=6, tiles='openstreetmap')\n",
    "# # Add EE drawing method to folium.\n",
    "# folium.Map.add_ee_layer = add_ee_layer\n",
    "\n",
    "# #Load the SRTM image.\n",
    "# srtm = ee.Image('USGS/SRTMGL1_003');\n",
    "\n",
    "# #Apply slope algorithm to an image.\n",
    "# slope = ee.Terrain.slope(srtm);\n",
    "\n",
    "# #Scale and Projection\n",
    "# scale = srtm.projection().nominalScale();\n",
    "\n",
    "# #styling\n",
    "# visualization_params = {min: 0, max: 10000, 'palette': [\n",
    "#     '3ae237', 'b5e22e', 'd6e21f', 'fff705', 'ffd611', 'ffb613', 'ff8b13',\n",
    "#     'ff6e08', 'ff500d', 'ff0000', 'de0101', 'c21301', '0602ff', '235cb1',\n",
    "#     '307ef3', '269db1', '30c8e2', '32d3ef', '3be285', '3ff38f', '86e26f'\n",
    "#   ],};\n",
    "\n",
    "\n",
    "# # Add the data to the map object.\n",
    "# my_map.add_ee_layer(srtm, visualization_params ,\"DEM\");\n",
    "# # my_map.add_ee_layer(slope, visualization_params , \"slope\");\n",
    "\n",
    "# # Display the map.\n",
    "# display(my_map)"
   ]
  },
  {
   "cell_type": "code",
   "execution_count": 3,
   "metadata": {},
   "outputs": [],
   "source": [
    "import os\n",
    "import ee\n",
    "import geemap\n",
    "from ipyleaflet import Map, basemaps, WidgetControl, Marker, projections\n",
    "import json\n",
    "import geopandas as gpd\n",
    "import ee\n",
    "import folium\n",
    "ee.Initialize()"
   ]
  },
  {
   "cell_type": "code",
   "execution_count": 9,
   "metadata": {},
   "outputs": [],
   "source": [
    "area = {\n",
    "  \"type\": \"FeatureCollection\",\n",
    "  \"features\": [\n",
    "    {\n",
    "      \"type\": \"Feature\",\n",
    "      \"properties\": {},\n",
    "      \"geometry\": {\n",
    "        \"type\": \"Polygon\",\n",
    "        \"coordinates\": [\n",
    "          [\n",
    "            [\n",
    "              22.795257568359375,\n",
    "              40.70823051511181\n",
    "            ],\n",
    "            [\n",
    "              22.835769653320312,\n",
    "              40.70823051511181\n",
    "            ],\n",
    "            [\n",
    "              22.835769653320312,\n",
    "              40.733730386116875\n",
    "            ],\n",
    "            [\n",
    "              22.795257568359375,\n",
    "              40.733730386116875\n",
    "            ],\n",
    "            [\n",
    "              22.795257568359375,\n",
    "              40.70823051511181\n",
    "            ]\n",
    "          ]\n",
    "        ]\n",
    "      }\n",
    "    }\n",
    "  ]\n",
    "}\n",
    "\n",
    "coords_area = area['features'][0]['geometry']['coordinates']\n",
    "aoi_area = ee.Geometry.Polygon(coords_area)\n",
    "\n",
    "station = [5.5730222, -0.24447074]"
   ]
  },
  {
   "cell_type": "code",
   "execution_count": 162,
   "metadata": {},
   "outputs": [
    {
     "data": {
      "application/vnd.jupyter.widget-view+json": {
       "model_id": "502c0da99bd64e769b08bba81a668b31",
       "version_major": 2,
       "version_minor": 0
      },
      "text/plain": [
       "Map(center=[41, 23], controls=(WidgetControl(options=['position', 'transparent_bg'], widget=HBox(children=(Tog…"
      ]
     },
     "metadata": {},
     "output_type": "display_data"
    }
   ],
   "source": [
    "m = geemap.Map(zoom_start=6)\n",
    "m.setCenter(23, 41)\n",
    "\n",
    "#Load the SRTM image.\n",
    "srtm = ee.Image('USGS/SRTMGL1_003');\n",
    "\n",
    "#Apply slope algorithm to an image.\n",
    "slope = ee.Terrain.slope(srtm);\n",
    "\n",
    "visualization_params = {min: 0, max: 10000, 'palette': [\n",
    "    '3ae237', 'b5e22e', 'd6e21f', 'fff705', 'ffd611', 'ffb613', 'ff8b13',\n",
    "    'ff6e08', 'ff500d', 'ff0000', 'de0101', 'c21301', '0602ff', '235cb1',\n",
    "    '307ef3', '269db1', '30c8e2', '32d3ef', '3be285', '3ff38f', '86e26f'\n",
    "  ],};\n",
    "\n",
    "m.addLayer(slope.select(0), visualization_params)\n",
    "\n",
    "# marker = Marker(location=(40.9, 22.3), draggable=True)\n",
    "# m.add_layer(marker);\n",
    "\n",
    "m"
   ]
  },
  {
   "cell_type": "code",
   "execution_count": 7,
   "metadata": {},
   "outputs": [
    {
     "name": "stdout",
     "output_type": "stream",
     "text": [
      "X: 40\n",
      "Y: 23\n",
      "Slope (%): 1.0074855089187622\n"
     ]
    }
   ],
   "source": [
    "x = float(input('X: '))\n",
    "y = float(input('Y: '))\n",
    "xy = ee.Geometry.Point([x, y])\n",
    "slope = slope.sample(xy, 30).first().get('slope').getInfo()\n",
    "\n",
    "print('Slope (%):', slope)"
   ]
  },
  {
   "cell_type": "code",
   "execution_count": null,
   "metadata": {},
   "outputs": [],
   "source": [
    "taskToexport = ee.batch.Export.image.toDrive(\n",
    "        image = srtm,             \n",
    "        region = aoi_area.bounds().getInfo()['coordinates'],\n",
    "        description = 'Area',\n",
    "        )\n",
    "\n",
    "taskToexport.start()"
   ]
  },
  {
   "cell_type": "code",
   "execution_count": 108,
   "metadata": {},
   "outputs": [
    {
     "data": {
      "text/plain": [
       "{'state': 'COMPLETED',\n",
       " 'description': 'test1',\n",
       " 'creation_timestamp_ms': 1614293742044,\n",
       " 'update_timestamp_ms': 1614293765790,\n",
       " 'start_timestamp_ms': 1614293755930,\n",
       " 'task_type': 'EXPORT_IMAGE',\n",
       " 'destination_uris': ['https://drive.google.com/'],\n",
       " 'attempt': 1,\n",
       " 'id': 'CVV75KZVWK6WAM2LU7RILAEH',\n",
       " 'name': 'projects/earthengine-legacy/operations/CVV75KZVWK6WAM2LU7RILAEH'}"
      ]
     },
     "execution_count": 108,
     "metadata": {},
     "output_type": "execute_result"
    }
   ],
   "source": [
    "taskToexport.status()"
   ]
  },
  {
   "cell_type": "code",
   "execution_count": 160,
   "metadata": {},
   "outputs": [
    {
     "data": {
      "application/vnd.jupyter.widget-view+json": {
       "model_id": "a168c6ab400f473196a6c51b1d4cb8eb",
       "version_major": 2,
       "version_minor": 0
      },
      "text/plain": [
       "interactive(children=(SelectionSlider(continuous_update=False, description='Year', options=('F101992', 'F10199…"
      ]
     },
     "metadata": {},
     "output_type": "display_data"
    }
   ],
   "source": [
    "def lights(years):\n",
    "    # set our initial map parameters for Washington, DC\n",
    "    center_lat = 39\n",
    "    center_lon = 23.5\n",
    "    zoomlevel = 6.3\n",
    "\n",
    "    # initialize our map\n",
    "    map1 = geemap.Map(center=[center_lat,center_lon], zoom=zoomlevel)\n",
    "    map1.add_basemap('SATELLITE')\n",
    "    visualization_params = {min: 0, max: 10000, 'palette': [\n",
    "        'ffffbf', 'cc5500', 'cc5500'\n",
    "      ],};\n",
    "    # get 1996 composite, apply mask, and add as layer\n",
    "    dmsp = ee.Image(\"NOAA/DMSP-OLS/NIGHTTIME_LIGHTS/{}\".format(years)).select('stable_lights')\n",
    "    map1.addLayer(dmsp.mask(dmsp), {}, \"DMSP-OLS 1996\")\n",
    "    map1.addLayerControl()\n",
    "    display(map1)\n",
    "    \n",
    "from ipywidgets import interact, interactive, fixed, interact_manual\n",
    "\n",
    "slider = widgets.SelectionSlider(\n",
    "    options=['F101992', 'F101993', 'F121994', 'F121995', 'F121996', 'F141997', 'F141998', 'F141999', 'F152000', 'F152001', 'F152002', 'F152003', 'F162004', 'F162005', 'F162006', 'F162007', 'F162008', 'F162009', 'F182010', 'F182011', 'F182012', 'F182013'],\n",
    "    value='F101992',\n",
    "    description='Year',\n",
    "    disabled=False,\n",
    "    continuous_update=False,\n",
    "    orientation='horizontal',\n",
    "    readout=True)\n",
    "\n",
    "interact(lights, years = slider);"
   ]
  },
  {
   "cell_type": "code",
   "execution_count": null,
   "metadata": {},
   "outputs": [],
   "source": []
  }
 ],
 "metadata": {
  "kernelspec": {
   "display_name": "Python 3",
   "language": "python",
   "name": "python3"
  },
  "language_info": {
   "codemirror_mode": {
    "name": "ipython",
    "version": 3
   },
   "file_extension": ".py",
   "mimetype": "text/x-python",
   "name": "python",
   "nbconvert_exporter": "python",
   "pygments_lexer": "ipython3",
   "version": "3.7.10"
  }
 },
 "nbformat": 4,
 "nbformat_minor": 2
}
